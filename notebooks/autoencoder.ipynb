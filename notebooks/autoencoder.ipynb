{
 "cells": [
  {
   "cell_type": "markdown",
   "metadata": {},
   "source": [
    "# Autoencoder for MNIST compared to supervised model"
   ]
  },
  {
   "cell_type": "markdown",
   "metadata": {},
   "source": [
    "### Imports and load the MNIST dataset"
   ]
  },
  {
   "cell_type": "code",
   "execution_count": 13,
   "metadata": {},
   "outputs": [],
   "source": [
    "import tensorflow as tf\n",
    "import matplotlib.pyplot as plt\n",
    "\n",
    "# Load MNIST dataset\n",
    "(x_train, y_train), (x_test, y_test) = tf.keras.datasets.mnist.load_data()\n",
    "\n",
    "# Normalize data\n",
    "x_train = x_train / 255.0\n",
    "x_test = x_test / 255.0\n"
   ]
  },
  {
   "cell_type": "code",
   "execution_count": 15,
   "metadata": {},
   "outputs": [
    {
     "data": {
      "image/png": "[encoded data removed]",
      "text/plain": [
       "<Figure size 640x480 with 10 Axes>"
      ]
     },
     "metadata": {},
     "output_type": "display_data"
    }
   ],
   "source": [
    "# Plot the first 10 images\n",
    "for i in range(10):\n",
    "    plt.subplot(1, 10, i+1)\n",
    "    plt.imshow(x_train[i], cmap='gray')\n",
    "    plt.axis('off')"
   ]
  },
  {
   "cell_type": "markdown",
   "metadata": {},
   "source": [
    "### Vector size for latent variables and number of epochs"
   ]
  },
  {
   "cell_type": "code",
   "execution_count": 3,
   "metadata": {},
   "outputs": [],
   "source": [
    "LATENT_SIZE = 32\n",
    "EPOCHS = 10"
   ]
  },
  {
   "cell_type": "markdown",
   "metadata": {},
   "source": [
    "### Define the autoencoder model consisting of an encoder and decoder"
   ]
  },
  {
   "cell_type": "code",
   "execution_count": 4,
   "metadata": {},
   "outputs": [],
   "source": [
    "# Autoencoder using CNN layers\n",
    "encoder = tf.keras.models.Sequential([\n",
    "    tf.keras.layers.Reshape((28, 28, 1), input_shape=(28, 28)),\n",
    "    tf.keras.layers.Conv2D(16, (3, 3), activation=\"relu\"),\n",
    "    tf.keras.layers.MaxPooling2D((2, 2)),\n",
    "    tf.keras.layers.Conv2D(32, (3, 3), activation=\"relu\"),\n",
    "    tf.keras.layers.MaxPooling2D((2, 2)),\n",
    "    tf.keras.layers.Flatten(),\n",
    "    tf.keras.layers.Dense(LATENT_SIZE, activation=\"relu\")\n",
    "])\n",
    "\n",
    "decoder = tf.keras.models.Sequential([\n",
    "    tf.keras.layers.Dense(7 * 7 * 32, input_shape=(LATENT_SIZE,)),\n",
    "    tf.keras.layers.Reshape((7, 7, 32)),\n",
    "    tf.keras.layers.Conv2DTranspose(32, (3, 3), activation=\"relu\", padding=\"same\"),\n",
    "    tf.keras.layers.UpSampling2D((2, 2)),\n",
    "    tf.keras.layers.Conv2DTranspose(16, (3, 3), activation=\"relu\", padding=\"same\"),\n",
    "    tf.keras.layers.UpSampling2D((2, 2)),\n",
    "    tf.keras.layers.Conv2DTranspose(1, (3, 3), activation=\"sigmoid\", padding=\"same\"),\n",
    "    tf.keras.layers.Reshape((28, 28))\n",
    "])\n",
    "\n",
    "img = tf.keras.layers.Input(shape = (28, 28))\n",
    "latent_vector = encoder(img)\n",
    "output = decoder(latent_vector)\n",
    "autoencoder = tf.keras.models.Model(inputs = img, outputs = output)"
   ]
  },
  {
   "cell_type": "markdown",
   "metadata": {},
   "source": [
    "### Compile and train the autoencoder"
   ]
  },
  {
   "cell_type": "code",
   "execution_count": 5,
   "metadata": {},
   "outputs": [
    {
     "name": "stdout",
     "output_type": "stream",
     "text": [
      "Epoch 1/10\n",
      "1875/1875 [==============================] - 34s 17ms/step - loss: 0.1143\n",
      "Epoch 2/10\n",
      "1875/1875 [==============================] - 30s 16ms/step - loss: 0.0865\n",
      "Epoch 3/10\n",
      "1875/1875 [==============================] - 30s 16ms/step - loss: 0.0825\n",
      "Epoch 4/10\n",
      "1875/1875 [==============================] - 30s 16ms/step - loss: 0.0809\n",
      "Epoch 5/10\n",
      "1875/1875 [==============================] - 31s 16ms/step - loss: 0.0800\n",
      "Epoch 6/10\n",
      "1875/1875 [==============================] - 31s 17ms/step - loss: 0.0793\n",
      "Epoch 7/10\n",
      "1875/1875 [==============================] - 30s 16ms/step - loss: 0.0788\n",
      "Epoch 8/10\n",
      "1875/1875 [==============================] - 30s 16ms/step - loss: 0.0784\n",
      "Epoch 9/10\n",
      "1875/1875 [==============================] - 32s 17ms/step - loss: 0.0780\n",
      "Epoch 10/10\n",
      "1875/1875 [==============================] - 34s 18ms/step - loss: 0.0777\n"
     ]
    },
    {
     "data": {
      "text/plain": [
       "<keras.callbacks.History at 0x1381bbd10>"
      ]
     },
     "execution_count": 5,
     "metadata": {},
     "output_type": "execute_result"
    }
   ],
   "source": [
    "autoencoder.compile(\"nadam\", loss = \"binary_crossentropy\")\n",
    "\n",
    "autoencoder.fit(x_train, x_train, epochs=EPOCHS)"
   ]
  },
  {
   "cell_type": "markdown",
   "metadata": {},
   "source": [
    "### Fine-tune the model with supervised learning with 10% of the training data"
   ]
  },
  {
   "cell_type": "code",
   "execution_count": 8,
   "metadata": {},
   "outputs": [
    {
     "name": "stdout",
     "output_type": "stream",
     "text": [
      "Epoch 1/10\n",
      "19/19 [==============================] - 1s 10ms/step - loss: 5.7505 - accuracy: 0.0233\n",
      "Epoch 2/10\n",
      "19/19 [==============================] - 0s 9ms/step - loss: 2.4571 - accuracy: 0.1483\n",
      "Epoch 3/10\n",
      "19/19 [==============================] - 0s 8ms/step - loss: 1.7202 - accuracy: 0.4317\n",
      "Epoch 4/10\n",
      "19/19 [==============================] - 0s 7ms/step - loss: 1.2827 - accuracy: 0.6167\n",
      "Epoch 5/10\n",
      "19/19 [==============================] - 0s 9ms/step - loss: 0.8721 - accuracy: 0.7883\n",
      "Epoch 6/10\n",
      "19/19 [==============================] - 0s 9ms/step - loss: 0.5985 - accuracy: 0.8500\n",
      "Epoch 7/10\n",
      "19/19 [==============================] - 0s 8ms/step - loss: 0.4603 - accuracy: 0.8717\n",
      "Epoch 8/10\n",
      "19/19 [==============================] - 0s 7ms/step - loss: 0.3751 - accuracy: 0.8917\n",
      "Epoch 9/10\n",
      "19/19 [==============================] - 0s 9ms/step - loss: 0.3037 - accuracy: 0.9233\n",
      "Epoch 10/10\n",
      "19/19 [==============================] - 0s 10ms/step - loss: 0.2631 - accuracy: 0.9250\n",
      "Accuracy after fine-tuning: 0.868399977684021\n"
     ]
    }
   ],
   "source": [
    "# Set up the model\n",
    "model = tf.keras.models.Sequential([\n",
    "    encoder,\n",
    "    tf.keras.layers.Dense(10, activation=\"softmax\")\n",
    "])\n",
    "\n",
    "# Compile the model\n",
    "model.compile(\n",
    "    optimizer=\"adam\",\n",
    "    loss=\"sparse_categorical_crossentropy\",\n",
    "    metrics=[\"accuracy\"]\n",
    ")\n",
    "\n",
    "# Use 1% of the labeled training examples for supervised learning\n",
    "x_train_supervised = x_train[:600]\n",
    "y_train_supervised = y_train[:600]\n",
    "\n",
    "# Train the model\n",
    "model.fit(\n",
    "    x_train_supervised,\n",
    "    y_train_supervised,\n",
    "    epochs=EPOCHS,\n",
    ")\n",
    "\n",
    "# Evaluate the model on the test set\n",
    "_, accuracy_autoencoder = model.evaluate(x_test, y_test, verbose=0)\n",
    "print(f\"Accuracy after fine-tuning: {accuracy_autoencoder}\")"
   ]
  },
  {
   "cell_type": "markdown",
   "metadata": {},
   "source": [
    "## Train a CNN model on 1% of the labeled data"
   ]
  },
  {
   "cell_type": "code",
   "execution_count": 9,
   "metadata": {},
   "outputs": [
    {
     "name": "stdout",
     "output_type": "stream",
     "text": [
      "Epoch 1/10\n",
      "19/19 [==============================] - 1s 18ms/step - loss: 2.0274 - accuracy: 0.4100\n",
      "Epoch 2/10\n",
      "19/19 [==============================] - 0s 17ms/step - loss: 0.9708 - accuracy: 0.7600\n",
      "Epoch 3/10\n",
      "19/19 [==============================] - 0s 15ms/step - loss: 0.5264 - accuracy: 0.8417\n",
      "Epoch 4/10\n",
      "19/19 [==============================] - 0s 15ms/step - loss: 0.3506 - accuracy: 0.8900\n",
      "Epoch 5/10\n",
      "19/19 [==============================] - 0s 13ms/step - loss: 0.2720 - accuracy: 0.9183\n",
      "Epoch 6/10\n",
      "19/19 [==============================] - 0s 13ms/step - loss: 0.1842 - accuracy: 0.9417\n",
      "Epoch 7/10\n",
      "19/19 [==============================] - 0s 12ms/step - loss: 0.1399 - accuracy: 0.9617\n",
      "Epoch 8/10\n",
      "19/19 [==============================] - 0s 12ms/step - loss: 0.0896 - accuracy: 0.9767\n",
      "Epoch 9/10\n",
      "19/19 [==============================] - 0s 12ms/step - loss: 0.0658 - accuracy: 0.9917\n",
      "Epoch 10/10\n",
      "19/19 [==============================] - 0s 12ms/step - loss: 0.0429 - accuracy: 0.9933\n",
      "Accuracy after fine-tuning: 0.9175000190734863\n"
     ]
    }
   ],
   "source": [
    "# Set up the model\n",
    "model = tf.keras.models.Sequential([\n",
    "    tf.keras.layers.Reshape((28, 28, 1), input_shape=(28, 28)),\n",
    "    tf.keras.layers.Conv2D(32, (3, 3), activation=\"relu\"),\n",
    "    tf.keras.layers.MaxPooling2D((2, 2)),\n",
    "    tf.keras.layers.Conv2D(64, (3, 3), activation=\"relu\"),\n",
    "    tf.keras.layers.MaxPooling2D((2, 2)),\n",
    "    tf.keras.layers.Flatten(),\n",
    "    tf.keras.layers.Dense(64, activation=\"relu\"),\n",
    "    tf.keras.layers.Dense(10, activation=\"softmax\")\n",
    "])\n",
    "\n",
    "# Compile the model\n",
    "model.compile(\n",
    "    optimizer=\"adam\",\n",
    "    loss=\"sparse_categorical_crossentropy\",\n",
    "    metrics=[\"accuracy\"]\n",
    ")\n",
    "\n",
    "# Train the model\n",
    "model.fit(\n",
    "    x_train_supervised,\n",
    "    y_train_supervised,\n",
    "    epochs=EPOCHS,\n",
    ")\n",
    "\n",
    "# Evaluate the model on the test set\n",
    "_, accuracy_cnn = model.evaluate(x_test, y_test, verbose=0)\n",
    "print(f\"Accuracy after fine-tuning: {accuracy_cnn}\")"
   ]
  },
  {
   "cell_type": "markdown",
   "metadata": {},
   "source": [
    "### Compare the performance of the autoencoder and CNN models"
   ]
  },
  {
   "cell_type": "code",
   "execution_count": 10,
   "metadata": {},
   "outputs": [
    {
     "name": "stdout",
     "output_type": "stream",
     "text": [
      "Unsupervised CNN autoencoder with supervised fine-tuning accuracy: 0.868399977684021\n",
      "Supervised CNN accuracy: 0.9175000190734863\n"
     ]
    }
   ],
   "source": [
    "print(f'Unsupervised CNN autoencoder with supervised fine-tuning accuracy: {accuracy_autoencoder}')\n",
    "print(f'Supervised CNN accuracy: {accuracy_cnn}')"
   ]
  }
 ],
 "metadata": {
  "kernelspec": {
   "display_name": "Python 3",
   "language": "python",
   "name": "python3"
  },
  "language_info": {
   "codemirror_mode": {
    "name": "ipython",
    "version": 3
   },
   "file_extension": ".py",
   "mimetype": "text/x-python",
   "name": "python",
   "nbconvert_exporter": "python",
   "pygments_lexer": "ipython3",
   "version": "3.11.5"
  }
 },
 "nbformat": 4,
 "nbformat_minor": 2
}
